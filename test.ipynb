{
 "cells": [
  {
   "cell_type": "code",
   "execution_count": 1,
   "metadata": {},
   "outputs": [
    {
     "name": "stdout",
     "output_type": "stream",
     "text": [
      "Loading checkpoint checkpoint\\perpen-BIGNETWORKr2\\model-20020\n",
      "INFO:tensorflow:Restoring parameters from checkpoint\\perpen-BIGNETWORKr2\\model-20020\n"
     ]
    }
   ],
   "source": [
    "import gpt_2_simple as gpt2\n",
    "\n",
    "sess = gpt2.start_tf_sess()\n",
    "run_name = 'perpen-BIGNETWORKr2'\n",
    "gpt2.load_gpt2(sess, run_name=run_name)#, checkpoint='model-9500') # The name of your checkpoint"
   ]
  },
  {
   "cell_type": "code",
   "execution_count": 2,
   "metadata": {},
   "outputs": [],
   "source": [
    "def gen(prompt):\n",
    "    r = gpt2.generate(sess, run_name=run_name, temperature=0.9, nsamples=1, batch_size=1, prefix=prompt, length=128, truncate=\"\\n\\n\", return_as_list=True, include_prefix=False)\n",
    "    return r"
   ]
  },
  {
   "cell_type": "code",
   "execution_count": null,
   "metadata": {},
   "outputs": [],
   "source": [
    "prompt=\"Walkier:\\n-help\\n\\nWhat name?:\\n\"\n",
    "print(f'--{run_name}--')\n",
    "print(prompt, '-EOF-')\n",
    "gen(prompt)"
   ]
  },
  {
   "cell_type": "code",
   "execution_count": null,
   "metadata": {},
   "outputs": [],
   "source": [
    "where's jacob?\n",
    "how many hours did you sleep last night?\n",
    "wanna play now?\n",
    "did you see the new operator?"
   ]
  },
  {
   "cell_type": "code",
   "execution_count": 3,
   "metadata": {},
   "outputs": [
    {
     "name": "stdout",
     "output_type": "stream",
     "text": [
      "--perpen-BIGNETWORKr2--\n",
      "Walkier:\n",
      "lol antho slept before you\n",
      "What are you gonna during you week here Armando?\n",
      "\n",
      "Vmundo:\n",
      " -EOF-\n"
     ]
    },
    {
     "data": {
      "text/plain": [
       "[\"What we're doing is\\nReading Jap book at random\"]"
      ]
     },
     "execution_count": 3,
     "metadata": {},
     "output_type": "execute_result"
    }
   ],
   "source": [
    "prompt=\"Walkier:\\nlol antho slept before you\\nWhat are you gonna during you week here Armando?\\n\\nVmundo:\\n\"\n",
    "print(f'--{run_name}--')\n",
    "print(prompt, '-EOF-')\n",
    "gen(prompt)"
   ]
  },
  {
   "cell_type": "code",
   "execution_count": null,
   "metadata": {},
   "outputs": [],
   "source": [
    "with open('./texts/1.txt', 'r') as f:\n",
    "    prompt = f.read()\n",
    "print(f'--{run_name}--')\n",
    "print(prompt, '-EOF-')\n",
    "gen(prompt)"
   ]
  },
  {
   "cell_type": "code",
   "execution_count": null,
   "metadata": {},
   "outputs": [],
   "source": [
    "with open('./texts/1.txt', 'r') as f:\n",
    "    prompt = f.read()\n",
    "print(f'--{run_name}--')\n",
    "print(prompt, '-EOF-')\n",
    "gen(prompt)"
   ]
  },
  {
   "cell_type": "code",
   "execution_count": null,
   "metadata": {},
   "outputs": [],
   "source": [
    "with open('./texts/1.txt', 'r') as f:\n",
    "    prompt = f.read()\n",
    "print(f'--{run_name}--')\n",
    "print(prompt, '-EOF-')\n",
    "gen(prompt)"
   ]
  },
  {
   "cell_type": "code",
   "execution_count": null,
   "metadata": {},
   "outputs": [],
   "source": []
  }
 ],
 "metadata": {
  "interpreter": {
   "hash": "03e7aa1980c2d4806cf14a8d1eafd155898a48b8a9df1c897dc85c33fc9d9671"
  },
  "kernelspec": {
   "display_name": "Python 3.9.7 64-bit ('tf-gpu': conda)",
   "language": "python",
   "name": "python3"
  },
  "language_info": {
   "codemirror_mode": {
    "name": "ipython",
    "version": 3
   },
   "file_extension": ".py",
   "mimetype": "text/x-python",
   "name": "python",
   "nbconvert_exporter": "python",
   "pygments_lexer": "ipython3",
   "version": "3.9.7"
  },
  "orig_nbformat": 4
 },
 "nbformat": 4,
 "nbformat_minor": 2
}
